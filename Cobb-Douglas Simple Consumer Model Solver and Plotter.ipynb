{
 "cells": [
  {
   "cell_type": "markdown",
   "id": "0f4fc515",
   "metadata": {},
   "source": [
    "# Cobb-Douglas Simple Consumer Model Solver and Plotter"
   ]
  },
  {
   "cell_type": "markdown",
   "id": "2b93c4c9",
   "metadata": {
    "heading_collapsed": true
   },
   "source": [
    "## Modules"
   ]
  },
  {
   "cell_type": "code",
   "execution_count": 3,
   "id": "4172d44f",
   "metadata": {
    "hidden": true
   },
   "outputs": [],
   "source": [
    "from sympy import *\n",
    "import numpy as np\n",
    "import matplotlib.pyplot as plt"
   ]
  },
  {
   "cell_type": "markdown",
   "id": "883d25b3",
   "metadata": {
    "heading_collapsed": true
   },
   "source": [
    "## Variables and Formulas"
   ]
  },
  {
   "cell_type": "code",
   "execution_count": 4,
   "id": "5a121000",
   "metadata": {
    "hidden": true
   },
   "outputs": [],
   "source": [
    "x1,x2=symbols(\"x_1 x_2\") #Goods\n",
    "p1,p2=symbols(\"p_1 p_2\") #Prices\n",
    "R=symbols(\"R\")           #Income\n",
    "alpha=symbols(\"alpha\")   #Power"
   ]
  },
  {
   "cell_type": "code",
   "execution_count": 5,
   "id": "24ee8919",
   "metadata": {
    "hidden": true
   },
   "outputs": [
    {
     "data": {
      "text/latex": [
       "$\\displaystyle x_{1}^{\\alpha} x_{2}^{1 - \\alpha}$"
      ],
      "text/plain": [
       "x_1**alpha*x_2**(1 - alpha)"
      ]
     },
     "execution_count": 5,
     "metadata": {},
     "output_type": "execute_result"
    }
   ],
   "source": [
    "U=x1**alpha*x2**(1-alpha) # Cobb-Douglas Utility Function\n",
    "U"
   ]
  },
  {
   "cell_type": "code",
   "execution_count": 6,
   "id": "d6400a50",
   "metadata": {
    "hidden": true
   },
   "outputs": [
    {
     "data": {
      "text/latex": [
       "$\\displaystyle - \\frac{\\alpha x_{2}}{x_{1} \\left(\\alpha - 1\\right)}$"
      ],
      "text/plain": [
       "-alpha*x_2/(x_1*(alpha - 1))"
      ]
     },
     "execution_count": 6,
     "metadata": {},
     "output_type": "execute_result"
    }
   ],
   "source": [
    "MRS=simplify(diff(U,x1)/diff(U,x2)) #Marginal Rate of Substitution\n",
    "MRS"
   ]
  },
  {
   "cell_type": "code",
   "execution_count": 36,
   "id": "6659d12b",
   "metadata": {
    "hidden": true,
    "scrolled": true
   },
   "outputs": [
    {
     "data": {
      "text/latex": [
       "$\\displaystyle \\frac{R - p_{1} x_{1}}{p_{2}}$"
      ],
      "text/plain": [
       "(R - p_1*x_1)/p_2"
      ]
     },
     "execution_count": 36,
     "metadata": {},
     "output_type": "execute_result"
    }
   ],
   "source": [
    "budget=p1*x1+p2*x2-R\n",
    "BO=(R-p1*x1)/p2 #Budget Constraint\n",
    "BO"
   ]
  },
  {
   "cell_type": "code",
   "execution_count": 12,
   "id": "e8b2b0c1",
   "metadata": {
    "hidden": true,
    "scrolled": true
   },
   "outputs": [
    {
     "data": {
      "text/latex": [
       "$\\displaystyle - \\frac{\\alpha x_{2}}{x_{1} \\left(\\alpha - 1\\right)} = \\frac{p_{1}}{p_{2}}$"
      ],
      "text/plain": [
       "Eq(-alpha*x_2/(x_1*(alpha - 1)), p_1/p_2)"
      ]
     },
     "execution_count": 12,
     "metadata": {},
     "output_type": "execute_result"
    }
   ],
   "source": [
    "Eq(MRS,p1/p2) #First Order Condition"
   ]
  },
  {
   "cell_type": "markdown",
   "id": "b420f936",
   "metadata": {},
   "source": [
    "## Solver"
   ]
  },
  {
   "cell_type": "markdown",
   "id": "979dd47b",
   "metadata": {},
   "source": [
    "**First Order Condition:** $MRS=p_1/p_2$\n",
    "\n",
    "**Budget Constraint:** $R=p_1x_1 + p_2x_2$\n",
    "\n",
    "**Optimums:** $(x_1^{*},x_2^{*})$"
   ]
  },
  {
   "cell_type": "code",
   "execution_count": 42,
   "id": "f5175a47",
   "metadata": {},
   "outputs": [],
   "source": [
    "def CobbDouglas_solver(R_check,p1_check,p2_check,alpha_check):\n",
    "#======================================================================\n",
    "    U_check=(MRS-p1/p2).subs(p1,p1_check).subs(p2,p2_check).subs(alpha,alpha_check)\n",
    "    x1_MRS=solve(U_check,x1)[0]\n",
    "    x2_MRS=solve(U_check,x2)[0]\n",
    "#======================================================================    \n",
    "    budget_check=budget.subs(p1,p1_check).subs(p2,p2_check).subs(R,R_check)\n",
    "    x1_opt=solve(budget_check.subs(x2,x2_MRS),x1)[0]\n",
    "    x2_opt=solve(budget_check.subs(x1,x1_MRS),x2)[0]\n",
    "\n",
    "    return [x1_opt,x2_opt]"
   ]
  },
  {
   "cell_type": "markdown",
   "id": "132b4a9e",
   "metadata": {
    "heading_collapsed": true
   },
   "source": [
    "### Examples"
   ]
  },
  {
   "cell_type": "code",
   "execution_count": 43,
   "id": "229c949b",
   "metadata": {
    "hidden": true
   },
   "outputs": [
    {
     "data": {
      "text/plain": [
       "[2.66666666666667, 8.00000000000000]"
      ]
     },
     "execution_count": 43,
     "metadata": {},
     "output_type": "execute_result"
    }
   ],
   "source": [
    "CobbDouglas_solver(16,3,1,0.5)"
   ]
  },
  {
   "cell_type": "code",
   "execution_count": 44,
   "id": "1ecbe664",
   "metadata": {
    "hidden": true,
    "scrolled": true
   },
   "outputs": [
    {
     "data": {
      "text/plain": [
       "[1.66666666666667, 5.00000000000000]"
      ]
     },
     "execution_count": 44,
     "metadata": {},
     "output_type": "execute_result"
    }
   ],
   "source": [
    "CobbDouglas_solver(10,3,1,0.5)"
   ]
  },
  {
   "cell_type": "code",
   "execution_count": 45,
   "id": "06e69d78",
   "metadata": {
    "hidden": true
   },
   "outputs": [
    {
     "data": {
      "text/plain": [
       "[1.00000000000000, 7.00000000000000]"
      ]
     },
     "execution_count": 45,
     "metadata": {},
     "output_type": "execute_result"
    }
   ],
   "source": [
    "CobbDouglas_solver(10,3,1,0.3)"
   ]
  },
  {
   "cell_type": "code",
   "execution_count": 46,
   "id": "8fcc6950",
   "metadata": {
    "hidden": true
   },
   "outputs": [
    {
     "data": {
      "text/plain": [
       "[1.60000000000000, 14.4000000000000]"
      ]
     },
     "execution_count": 46,
     "metadata": {},
     "output_type": "execute_result"
    }
   ],
   "source": [
    "CobbDouglas_solver(16,1,1,0.1)"
   ]
  },
  {
   "cell_type": "markdown",
   "id": "fc0b339f",
   "metadata": {},
   "source": [
    "## Plotter"
   ]
  },
  {
   "cell_type": "code",
   "execution_count": 77,
   "id": "0fea953c",
   "metadata": {},
   "outputs": [],
   "source": [
    "def CobbDouglas_plotter(R_check,p1_check,p2_check,alpha_check,n_tochek=50):\n",
    "#======================================================================  \n",
    "    x1_opt,x2_opt=CobbDouglas_solver(R_check,p1_check,p2_check,alpha_check)\n",
    "    U_check=U.subs(p1,p1_check).subs(p2,p2_check).subs(alpha,alpha_check)\n",
    "    U_opt_value=U_check.subs(x1,x1_opt).subs(x2,x2_opt)\n",
    "#======================================================================     \n",
    "    x2_opt_U_value_x1=solve(U_check-round(U_opt_value,4),x2)[0]\n",
    "#====================================================================== \n",
    "    lambda_x2_U_opt_value_x1=lambdify(x1,x2_opt_U_value_x1)\n",
    "    \n",
    "    x1_u_x2=np.arange(x1_opt/8,2*x1_opt,\n",
    "                      2.5*x1_opt/(n_tochek))\n",
    "    \n",
    "    x2_u_x1=lambda_x2_U_opt_value_x1(x1_u_x2)\n",
    "#======================================================================\n",
    "#=======PLOTTING=======================================================\n",
    "    fig, ax = plt.subplots() \n",
    "\n",
    "    ax.set_title(U_check.subs(alpha,alpha_check), fontsize=16)\n",
    "    ax.set_xlabel(r'$x_1$', fontsize=14) \n",
    "    ax.set_ylabel(r'$x_2$', fontsize=14)\n",
    "#======GRID============================================================    \n",
    "    ax.grid(which='major', linewidth=1.2) \n",
    "    ax.grid(which='minor', linestyle='--', color='gray', linewidth=0.5)\n",
    "#======U plot==========================================================\n",
    "    ax.plot(x1_u_x2, x2_u_x1, label='U')\n",
    "#======BO plot=========================================================    \n",
    "    ax.plot([0,R_check/p1_check],[R_check/p2_check,0], label='BO')\n",
    "#======(X1,X2) OPTS====================================================\n",
    "    ax.scatter(x1_opt,x2_opt,c='black',s=50,marker=\"o\",\n",
    "               label=f'({round(x1_opt,1)},{round(x2_opt,1)}')\n",
    "    ax.plot([x1_opt,x1_opt], [0,x2_opt],linestyle='--', color='black')\n",
    "    ax.plot([0,x1_opt], [x2_opt,x2_opt],linestyle='--', color='black')\n",
    "#======Limits on axis==================================================\n",
    "    ax.set_xlim(0,2*float(x1_opt))\n",
    "    ax.set_ylim(0,2*float(x2_opt))\n",
    "    \n",
    "    ax.legend()\n",
    "    plt.show()"
   ]
  },
  {
   "cell_type": "markdown",
   "id": "768f64d1",
   "metadata": {},
   "source": [
    "### Examples"
   ]
  },
  {
   "cell_type": "code",
   "execution_count": 78,
   "id": "fab473e8",
   "metadata": {
    "scrolled": true
   },
   "outputs": [
    {
     "data": {
      "image/png": "[encoded data removed]",
      "text/plain": [
       "<Figure size 432x288 with 1 Axes>"
      ]
     },
     "metadata": {
      "needs_background": "light"
     },
     "output_type": "display_data"
    }
   ],
   "source": [
    "CobbDouglas_plotter(18,3,5,0.3)"
   ]
  },
  {
   "cell_type": "code",
   "execution_count": 79,
   "id": "356c3172",
   "metadata": {},
   "outputs": [
    {
     "data": {
      "image/png": "[encoded data removed]",
      "text/plain": [
       "<Figure size 432x288 with 1 Axes>"
      ]
     },
     "metadata": {
      "needs_background": "light"
     },
     "output_type": "display_data"
    }
   ],
   "source": [
    "CobbDouglas_plotter(10,1,1,0.3)"
   ]
  },
  {
   "cell_type": "code",
   "execution_count": null,
   "id": "2eb66ac2",
   "metadata": {},
   "outputs": [],
   "source": []
  }
 ],
 "metadata": {
  "kernelspec": {
   "display_name": "Python 3 (ipykernel)",
   "language": "python",
   "name": "python3"
  },
  "language_info": {
   "codemirror_mode": {
    "name": "ipython",
    "version": 3
   },
   "file_extension": ".py",
   "mimetype": "text/x-python",
   "name": "python",
   "nbconvert_exporter": "python",
   "pygments_lexer": "ipython3",
   "version": "3.9.12"
  },
  "toc": {
   "base_numbering": 1,
   "nav_menu": {},
   "number_sections": true,
   "sideBar": true,
   "skip_h1_title": false,
   "title_cell": "Table of Contents",
   "title_sidebar": "Contents",
   "toc_cell": false,
   "toc_position": {},
   "toc_section_display": true,
   "toc_window_display": false
  },
  "varInspector": {
   "cols": {
    "lenName": 16,
    "lenType": 16,
    "lenVar": 40
   },
   "kernels_config": {
    "python": {
     "delete_cmd_postfix": "",
     "delete_cmd_prefix": "del ",
     "library": "var_list.py",
     "varRefreshCmd": "print(var_dic_list())"
    },
    "r": {
     "delete_cmd_postfix": ") ",
     "delete_cmd_prefix": "rm(",
     "library": "var_list.r",
     "varRefreshCmd": "cat(var_dic_list()) "
    }
   },
   "types_to_exclude": [
    "module",
    "function",
    "builtin_function_or_method",
    "instance",
    "_Feature"
   ],
   "window_display": false
  }
 },
 "nbformat": 4,
 "nbformat_minor": 5
}
