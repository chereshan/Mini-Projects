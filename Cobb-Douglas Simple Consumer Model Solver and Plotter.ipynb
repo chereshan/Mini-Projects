{
 "cells": [
  {
   "cell_type": "markdown",
   "id": "0f4fc515",
   "metadata": {},
   "source": [
    "# Cobb-Douglas Simple Consumer Model Solver and Plotter"
   ]
  },
  {
   "cell_type": "markdown",
   "id": "2b93c4c9",
   "metadata": {},
   "source": [
    "## Modules"
   ]
  },
  {
   "cell_type": "code",
   "execution_count": 1,
   "id": "4172d44f",
   "metadata": {},
   "outputs": [],
   "source": [
    "from sympy import *\n",
    "import numpy as np\n",
    "import matplotlib.pyplot as plt"
   ]
  },
  {
   "cell_type": "markdown",
   "id": "883d25b3",
   "metadata": {},
   "source": [
    "## Variables and Formulas"
   ]
  },
  {
   "cell_type": "code",
   "execution_count": 55,
   "id": "5a121000",
   "metadata": {},
   "outputs": [],
   "source": [
    "x1,x2=symbols(\"x_1 x_2\") #Goods\n",
    "p1,p2=symbols(\"p_1 p_2\") #Prices\n",
    "R=symbols(\"R\") #Income\n",
    "alpha=symbols(\"alpha\") #Power"
   ]
  },
  {
   "cell_type": "code",
   "execution_count": 56,
   "id": "24ee8919",
   "metadata": {},
   "outputs": [
    {
     "data": {
      "text/latex": [
       "$\\displaystyle x_{1}^{\\alpha} x_{2}^{1 - \\alpha}$"
      ],
      "text/plain": [
       "x_1**alpha*x_2**(1 - alpha)"
      ]
     },
     "execution_count": 56,
     "metadata": {},
     "output_type": "execute_result"
    }
   ],
   "source": [
    "U=x1**alpha*x2**(1-alpha) # Cobb-Douglas Utility Function\n",
    "U"
   ]
  },
  {
   "cell_type": "code",
   "execution_count": 4,
   "id": "d6400a50",
   "metadata": {},
   "outputs": [
    {
     "data": {
      "text/latex": [
       "$\\displaystyle - \\frac{\\alpha x_{2}}{x_{1} \\left(\\alpha - 1\\right)}$"
      ],
      "text/plain": [
       "-alpha*x_2/(x_1*(alpha - 1))"
      ]
     },
     "execution_count": 4,
     "metadata": {},
     "output_type": "execute_result"
    }
   ],
   "source": [
    "MRS=simplify(diff(U,x1)/diff(U,x2)) # Marginal Rate of Substitution\n",
    "MRS"
   ]
  },
  {
   "cell_type": "code",
   "execution_count": 7,
   "id": "9959ac22",
   "metadata": {},
   "outputs": [
    {
     "data": {
      "text/latex": [
       "$\\displaystyle - R + p_{1} x_{1} + p_{2} x_{2}$"
      ],
      "text/plain": [
       "-R + p_1*x_1 + p_2*x_2"
      ]
     },
     "execution_count": 7,
     "metadata": {},
     "output_type": "execute_result"
    }
   ],
   "source": [
    "budget=p1*x1+p2*x2-R #Budget Constraint\n",
    "budget"
   ]
  },
  {
   "cell_type": "code",
   "execution_count": 14,
   "id": "6659d12b",
   "metadata": {
    "scrolled": true
   },
   "outputs": [
    {
     "data": {
      "text/latex": [
       "$\\displaystyle \\frac{R - p_{1} x_{1}}{p_{2}}$"
      ],
      "text/plain": [
       "(R - p_1*x_1)/p_2"
      ]
     },
     "execution_count": 14,
     "metadata": {},
     "output_type": "execute_result"
    }
   ],
   "source": [
    "BO=(R-p1*x1)/p2\n",
    "BO"
   ]
  },
  {
   "cell_type": "code",
   "execution_count": 5,
   "id": "e8b2b0c1",
   "metadata": {
    "scrolled": true
   },
   "outputs": [
    {
     "data": {
      "text/latex": [
       "$\\displaystyle - \\frac{\\alpha x_{2}}{x_{1} \\left(\\alpha - 1\\right)} = \\frac{p_{1}}{p_{2}}$"
      ],
      "text/plain": [
       "Eq(-alpha*x_2/(x_1*(alpha - 1)), p_1/p_2)"
      ]
     },
     "execution_count": 5,
     "metadata": {},
     "output_type": "execute_result"
    }
   ],
   "source": [
    "Eq(MRS,p1/p2) #First Order Condition"
   ]
  },
  {
   "cell_type": "markdown",
   "id": "b420f936",
   "metadata": {},
   "source": [
    "## Solver"
   ]
  },
  {
   "cell_type": "code",
   "execution_count": 57,
   "id": "f5175a47",
   "metadata": {},
   "outputs": [],
   "source": [
    "def CobbDouglas_solver(R_check,p1_check,p2_check,alpha_check):\n",
    "    U_check=(MRS-p1/p2).subs(p1,p1_check).subs(p2,p2_check).subs(alpha,alpha_check)\n",
    "    budget_check=budget.subs(p1,p1_check).subs(p2,p2_check).subs(R,R_check)\n",
    "    resh1=solve(U_check,x1)[0]\n",
    "    resh2=solve(U_check,x2)[0]\n",
    "    resh3=solve(budget_check.subs(x2,resh2),x1)[0]\n",
    "    resh4=solve(budget_check.subs(x1,resh1),x2)[0]\n",
    "\n",
    "    return [resh1,resh2,resh3,resh4]"
   ]
  },
  {
   "cell_type": "markdown",
   "id": "132b4a9e",
   "metadata": {},
   "source": [
    "### Examples"
   ]
  },
  {
   "cell_type": "code",
   "execution_count": 58,
   "id": "229c949b",
   "metadata": {},
   "outputs": [
    {
     "data": {
      "text/plain": [
       "[0.333333333333333*x_2, 3.0*x_1, 2.66666666666667, 8.00000000000000]"
      ]
     },
     "execution_count": 58,
     "metadata": {},
     "output_type": "execute_result"
    }
   ],
   "source": [
    "CobbDouglas_solver(16,3,1,0.5) #Example"
   ]
  },
  {
   "cell_type": "markdown",
   "id": "fc0b339f",
   "metadata": {},
   "source": [
    "## Plotter"
   ]
  },
  {
   "cell_type": "code",
   "execution_count": 109,
   "id": "0fea953c",
   "metadata": {},
   "outputs": [],
   "source": [
    "def CobbDouglas_plotter(R_check,p1_check,p2_check,alpha_check,n_tochek=50):\n",
    "    x1_opt_check=CobbDouglas_solver(R_check,p1_check,p2_check,alpha_check)[2]\n",
    "    x2_opt_check=CobbDouglas_solver(R_check,p1_check,p2_check,alpha_check)[3]\n",
    "    \n",
    "    \n",
    "    U_check=U.subs(p1,p1_check).subs(p2,p2_check).subs(alpha,alpha_check)\n",
    "    U_resh_check=U_check.subs(x1,x1_opt_check).subs(x2,x2_opt_check)\n",
    "    \n",
    "    gr=solve(U_check-round(U_resh_check,4),x2)[0]\n",
    "    \n",
    "\n",
    "    lambda_x2_x1=lambdify(x1,gr)\n",
    "    x1_u_x2=np.arange(x1_opt_check/10,2*x1_opt_check,\n",
    "                      2*x1_opt_check/(n_tochek))\n",
    "    x2_u_x1=lambda_x2_x1(x1_u_x2)\n",
    "    \n",
    "\n",
    "    \n",
    "    BO_check=BO.subs(p1,p1_check).subs(p2,p2_check).subs(R,R_check)\n",
    "    lambda_BO_x1=lambdify(x1,BO_check)\n",
    "    \n",
    "    x2_BO_x1=lambda_BO_x1(x1_u_x2)\n",
    "    \n",
    "\n",
    "    \n",
    "    fig, ax = plt.subplots() \n",
    "    \n",
    "    \n",
    "    ax.set_title(f'U=x_1^{alpha_check}  x_2^{1-alpha_check}', fontsize=16)\n",
    "    ax.set_xlabel(r'$x_1$', fontsize=14) \n",
    "    ax.set_ylabel(r'$x_2$', fontsize=14)\n",
    "    \n",
    "    ax.grid(which='major', linewidth=1.2) \n",
    "    ax.grid(which='minor', linestyle='--', color='gray', linewidth=0.5)\n",
    "    \n",
    "    ax.plot(x1_u_x2, x2_u_x1, label='U')\n",
    "    \n",
    "    ax.plot(x1_u_x2, x2_BO_x1, label='BO')\n",
    "    ax.scatter(x1_opt_check,x2_opt_check,c='r',s=150,marker=\"*\")\n",
    "    ax.plot([x1_opt_check,x1_opt_check], [0,x2_opt_check],linestyle='--', color='black')\n",
    "    ax.plot([0,x1_opt_check], [x2_opt_check,x2_opt_check],linestyle='--', color='black')\n",
    "    \n",
    "    ax.set_xlim(0,2*float(x1_opt_check))\n",
    "    ax.set_ylim(0,2*float(x2_opt_check))\n",
    "    \n",
    "    ax.legend()\n",
    "    plt.show()"
   ]
  },
  {
   "cell_type": "markdown",
   "id": "768f64d1",
   "metadata": {},
   "source": [
    "### Examples"
   ]
  },
  {
   "cell_type": "code",
   "execution_count": 110,
   "id": "fab473e8",
   "metadata": {
    "scrolled": true
   },
   "outputs": [
    {
     "data": {
      "image/png": "[encoded data removed]",
      "text/plain": [
       "<Figure size 432x288 with 1 Axes>"
      ]
     },
     "metadata": {
      "needs_background": "light"
     },
     "output_type": "display_data"
    }
   ],
   "source": [
    "CobbDouglas_plotter(18,3,5,0.5)"
   ]
  }
 ],
 "metadata": {
  "kernelspec": {
   "display_name": "Python 3 (ipykernel)",
   "language": "python",
   "name": "python3"
  },
  "language_info": {
   "codemirror_mode": {
    "name": "ipython",
    "version": 3
   },
   "file_extension": ".py",
   "mimetype": "text/x-python",
   "name": "python",
   "nbconvert_exporter": "python",
   "pygments_lexer": "ipython3",
   "version": "3.9.12"
  },
  "toc": {
   "base_numbering": 1,
   "nav_menu": {},
   "number_sections": true,
   "sideBar": true,
   "skip_h1_title": false,
   "title_cell": "Table of Contents",
   "title_sidebar": "Contents",
   "toc_cell": false,
   "toc_position": {},
   "toc_section_display": true,
   "toc_window_display": false
  },
  "varInspector": {
   "cols": {
    "lenName": 16,
    "lenType": 16,
    "lenVar": 40
   },
   "kernels_config": {
    "python": {
     "delete_cmd_postfix": "",
     "delete_cmd_prefix": "del ",
     "library": "var_list.py",
     "varRefreshCmd": "print(var_dic_list())"
    },
    "r": {
     "delete_cmd_postfix": ") ",
     "delete_cmd_prefix": "rm(",
     "library": "var_list.r",
     "varRefreshCmd": "cat(var_dic_list()) "
    }
   },
   "types_to_exclude": [
    "module",
    "function",
    "builtin_function_or_method",
    "instance",
    "_Feature"
   ],
   "window_display": false
  }
 },
 "nbformat": 4,
 "nbformat_minor": 5
}
