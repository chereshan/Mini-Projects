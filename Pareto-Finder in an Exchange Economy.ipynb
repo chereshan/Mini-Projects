{
 "cells": [
  {
   "cell_type": "code",
   "execution_count": 3,
   "id": "eaa3793b",
   "metadata": {},
   "outputs": [],
   "source": [
    "from sympy import *\n",
    "import numpy as np\n",
    "import matplotlib.pyplot as plt"
   ]
  },
  {
   "cell_type": "code",
   "execution_count": 11,
   "id": "da94a1ee",
   "metadata": {},
   "outputs": [],
   "source": [
    "x11,x12=symbols(\"x_11 x_12\") #Goods (1-st Consumer)\n",
    "w11,w12=symbols(\"w_11 w_12\") #Reserves (1-st Consumer)\n",
    "\n",
    "x21,x22=symbols(\"x_21 x_22\") #Goods (2-nd Consumer)\n",
    "w21,w22=symbols(\"w_21 w_22\") #Reserves (2-nd Consumer)\n",
    "\n",
    "w1,w2=symbols(\"w_1 w_2\") #Reserves (Sum)"
   ]
  },
  {
   "cell_type": "code",
   "execution_count": 6,
   "id": "0010a2b0",
   "metadata": {},
   "outputs": [
    {
     "data": {
      "text/latex": [
       "$\\displaystyle w_{1} = w_{11} + w_{21}$"
      ],
      "text/plain": [
       "Eq(w_1, w_11 + w_21)"
      ]
     },
     "execution_count": 6,
     "metadata": {},
     "output_type": "execute_result"
    }
   ],
   "source": [
    "Eq(w1,w11+w21)"
   ]
  },
  {
   "cell_type": "code",
   "execution_count": 8,
   "id": "3f90c5fa",
   "metadata": {},
   "outputs": [],
   "source": [
    "U1=-(0.5)*(7-x11)**2-(4-x12)**2\n",
    "U2=-(0.5)*(6-x21)**2-(4-x22)**2"
   ]
  },
  {
   "cell_type": "code",
   "execution_count": 9,
   "id": "bc3c8a23",
   "metadata": {},
   "outputs": [
    {
     "data": {
      "text/latex": [
       "$\\displaystyle - \\left(4 - x_{12}\\right)^{2} - 0.5 \\left(7 - x_{11}\\right)^{2}$"
      ],
      "text/plain": [
       "-(4 - x_12)**2 - 0.5*(7 - x_11)**2"
      ]
     },
     "execution_count": 9,
     "metadata": {},
     "output_type": "execute_result"
    }
   ],
   "source": [
    "U1"
   ]
  },
  {
   "cell_type": "code",
   "execution_count": 13,
   "id": "5783ed47",
   "metadata": {},
   "outputs": [],
   "source": [
    "bo1=x11+x21-w1\n",
    "bo2=x21+x22-w2"
   ]
  },
  {
   "cell_type": "code",
   "execution_count": 37,
   "id": "0756918b",
   "metadata": {},
   "outputs": [],
   "source": [
    "U2=U2.subs(x21,w1-x11).subs(x22,w2-x12)"
   ]
  },
  {
   "cell_type": "code",
   "execution_count": 14,
   "id": "166ba56c",
   "metadata": {},
   "outputs": [],
   "source": [
    "alpha=symbols(\"alpha\") #share of utility"
   ]
  },
  {
   "cell_type": "code",
   "execution_count": 38,
   "id": "b3ff4c78",
   "metadata": {},
   "outputs": [
    {
     "data": {
      "text/latex": [
       "$\\displaystyle \\alpha \\left(- \\left(4 - x_{12}\\right)^{2} - 0.5 \\left(7 - x_{11}\\right)^{2}\\right) + \\left(1 - \\alpha\\right) \\left(- 0.5 \\left(- w_{1} + x_{11} + 6\\right)^{2} - \\left(- w_{2} + x_{12} + 4\\right)^{2}\\right)$"
      ],
      "text/plain": [
       "alpha*(-(4 - x_12)**2 - 0.5*(7 - x_11)**2) + (1 - alpha)*(-0.5*(-w_1 + x_11 + 6)**2 - (-w_2 + x_12 + 4)**2)"
      ]
     },
     "execution_count": 38,
     "metadata": {},
     "output_type": "execute_result"
    }
   ],
   "source": [
    "#Pareto problem\n",
    "alpha*U1+(1-alpha)*U2"
   ]
  },
  {
   "cell_type": "code",
   "execution_count": 20,
   "id": "f9155ceb",
   "metadata": {},
   "outputs": [],
   "source": [
    "delta1,delta2,delta3,delta4=symbols(\"delta_1 delta_2 delta_3 delta_4\")"
   ]
  },
  {
   "cell_type": "code",
   "execution_count": 39,
   "id": "5d743613",
   "metadata": {},
   "outputs": [
    {
     "data": {
      "text/latex": [
       "$\\displaystyle \\alpha \\left(- \\left(4 - x_{12}\\right)^{2} - 0.5 \\left(7 - x_{11}\\right)^{2}\\right) + \\delta_{1} x_{11} + \\delta_{2} x_{12} + \\delta_{3} \\left(w_{1} - x_{11}\\right) + \\delta_{4} \\left(w_{2} - x_{12}\\right) + \\left(1 - \\alpha\\right) \\left(- 0.5 \\left(- w_{1} + x_{11} + 6\\right)^{2} - \\left(- w_{2} + x_{12} + 4\\right)^{2}\\right)$"
      ],
      "text/plain": [
       "alpha*(-(4 - x_12)**2 - 0.5*(7 - x_11)**2) + delta_1*x_11 + delta_2*x_12 + delta_3*(w_1 - x_11) + delta_4*(w_2 - x_12) + (1 - alpha)*(-0.5*(-w_1 + x_11 + 6)**2 - (-w_2 + x_12 + 4)**2)"
      ]
     },
     "execution_count": 39,
     "metadata": {},
     "output_type": "execute_result"
    }
   ],
   "source": [
    "#lagrangian\n",
    "L=alpha*U1+(1-alpha)*U2+delta1*x11+delta2*x12+delta3*(w1-x11)+delta4*(w2-x12)\n",
    "L"
   ]
  },
  {
   "cell_type": "code",
   "execution_count": 25,
   "id": "af8842a9",
   "metadata": {},
   "outputs": [
    {
     "data": {
      "text/latex": [
       "$\\displaystyle \\alpha \\left(7.0 - 1.0 x_{11}\\right) + \\delta_{1} - \\delta_{3}$"
      ],
      "text/plain": [
       "alpha*(7.0 - 1.0*x_11) + delta_1 - delta_3"
      ]
     },
     "execution_count": 25,
     "metadata": {},
     "output_type": "execute_result"
    }
   ],
   "source": [
    "L1=diff(L,x11)\n",
    "L1"
   ]
  },
  {
   "cell_type": "code",
   "execution_count": 40,
   "id": "212d7412",
   "metadata": {},
   "outputs": [
    {
     "data": {
      "text/latex": [
       "$\\displaystyle \\alpha \\left(8 - 2 x_{12}\\right) + \\delta_{2} - \\delta_{4} + \\left(1 - \\alpha\\right) \\left(2 w_{2} - 2 x_{12} - 8\\right)$"
      ],
      "text/plain": [
       "alpha*(8 - 2*x_12) + delta_2 - delta_4 + (1 - alpha)*(2*w_2 - 2*x_12 - 8)"
      ]
     },
     "execution_count": 40,
     "metadata": {},
     "output_type": "execute_result"
    }
   ],
   "source": [
    "L2=diff(L,x12)\n",
    "L2"
   ]
  },
  {
   "cell_type": "code",
   "execution_count": null,
   "id": "49faf74e",
   "metadata": {},
   "outputs": [],
   "source": [
    "#Complementary slackness"
   ]
  },
  {
   "cell_type": "code",
   "execution_count": 28,
   "id": "776de5b8",
   "metadata": {},
   "outputs": [
    {
     "data": {
      "text/latex": [
       "$\\displaystyle \\delta_{1} x_{11} = 0$"
      ],
      "text/plain": [
       "Eq(delta_1*x_11, 0)"
      ]
     },
     "execution_count": 28,
     "metadata": {},
     "output_type": "execute_result"
    }
   ],
   "source": [
    "Eq(delta1*x11,0)"
   ]
  },
  {
   "cell_type": "code",
   "execution_count": 29,
   "id": "f70c6d83",
   "metadata": {},
   "outputs": [
    {
     "data": {
      "text/latex": [
       "$\\displaystyle \\delta_{2} x_{12} = 0$"
      ],
      "text/plain": [
       "Eq(delta_2*x_12, 0)"
      ]
     },
     "execution_count": 29,
     "metadata": {},
     "output_type": "execute_result"
    }
   ],
   "source": [
    "Eq(delta2*x12,0)"
   ]
  },
  {
   "cell_type": "code",
   "execution_count": 31,
   "id": "c8777a77",
   "metadata": {},
   "outputs": [
    {
     "data": {
      "text/latex": [
       "$\\displaystyle \\delta_{3} \\cdot \\left(8 - x_{11}\\right) = 0$"
      ],
      "text/plain": [
       "Eq(delta_3*(8 - x_11), 0)"
      ]
     },
     "execution_count": 31,
     "metadata": {},
     "output_type": "execute_result"
    }
   ],
   "source": [
    "Eq(delta3*(8-x11),0)"
   ]
  },
  {
   "cell_type": "code",
   "execution_count": 32,
   "id": "d7f47689",
   "metadata": {},
   "outputs": [
    {
     "data": {
      "text/latex": [
       "$\\displaystyle \\delta_{4} \\cdot \\left(3 - x_{12}\\right) = 0$"
      ],
      "text/plain": [
       "Eq(delta_4*(3 - x_12), 0)"
      ]
     },
     "execution_count": 32,
     "metadata": {},
     "output_type": "execute_result"
    }
   ],
   "source": [
    "Eq(delta4*(3-x12),0)"
   ]
  },
  {
   "cell_type": "code",
   "execution_count": 41,
   "id": "73b8832b",
   "metadata": {},
   "outputs": [
    {
     "data": {
      "text/latex": [
       "$\\displaystyle \\alpha \\left(7.0 - 1.0 x_{11}\\right)$"
      ],
      "text/plain": [
       "alpha*(7.0 - 1.0*x_11)"
      ]
     },
     "execution_count": 41,
     "metadata": {},
     "output_type": "execute_result"
    }
   ],
   "source": [
    "L1.subs(delta1,0).subs(delta3,0)"
   ]
  },
  {
   "cell_type": "code",
   "execution_count": 42,
   "id": "66deea4a",
   "metadata": {},
   "outputs": [
    {
     "data": {
      "text/latex": [
       "$\\displaystyle \\alpha \\left(8 - 2 x_{12}\\right) + \\left(1 - \\alpha\\right) \\left(2 w_{2} - 2 x_{12} - 8\\right)$"
      ],
      "text/plain": [
       "alpha*(8 - 2*x_12) + (1 - alpha)*(2*w_2 - 2*x_12 - 8)"
      ]
     },
     "execution_count": 42,
     "metadata": {},
     "output_type": "execute_result"
    }
   ],
   "source": [
    "L2.subs(delta2,0).subs(delta4,0)"
   ]
  },
  {
   "cell_type": "code",
   "execution_count": 59,
   "id": "dedcbe8a",
   "metadata": {},
   "outputs": [
    {
     "data": {
      "text/latex": [
       "$\\displaystyle \\left\\{\\left( 7.0, \\  - 1.0 \\alpha w_{2} + 8.0 \\alpha + 1.0 w_{2} - 4.0\\right)\\right\\}$"
      ],
      "text/plain": [
       "{(7.0, -1.0*alpha*w_2 + 8.0*alpha + 1.0*w_2 - 4.0)}"
      ]
     },
     "execution_count": 59,
     "metadata": {},
     "output_type": "execute_result"
    }
   ],
   "source": [
    "linsolve([L1.subs(delta1,0).subs(delta3,0),L2.subs(delta2,0).subs(delta4,0)],(x11,x12))"
   ]
  },
  {
   "cell_type": "code",
   "execution_count": 55,
   "id": "f9b0161a",
   "metadata": {},
   "outputs": [
    {
     "data": {
      "text/latex": [
       "$\\displaystyle - \\alpha w_{2} + 0.5 \\alpha x_{11} + 4.5 \\alpha + w_{2} - 4.0$"
      ],
      "text/plain": [
       "-alpha*w_2 + 0.5*alpha*x_11 + 4.5*alpha + w_2 - 4.0"
      ]
     },
     "execution_count": 55,
     "metadata": {},
     "output_type": "execute_result"
    }
   ],
   "source": [
    "solve(L1.subs(delta1,0).subs(delta3,0)-L2.subs(delta2,0).subs(delta4,0),x12)[0]"
   ]
  },
  {
   "cell_type": "code",
   "execution_count": null,
   "id": "1b2b865e",
   "metadata": {},
   "outputs": [],
   "source": []
  }
 ],
 "metadata": {
  "kernelspec": {
   "display_name": "Python 3 (ipykernel)",
   "language": "python",
   "name": "python3"
  },
  "language_info": {
   "codemirror_mode": {
    "name": "ipython",
    "version": 3
   },
   "file_extension": ".py",
   "mimetype": "text/x-python",
   "name": "python",
   "nbconvert_exporter": "python",
   "pygments_lexer": "ipython3",
   "version": "3.9.12"
  },
  "toc": {
   "base_numbering": 1,
   "nav_menu": {},
   "number_sections": true,
   "sideBar": true,
   "skip_h1_title": false,
   "title_cell": "Table of Contents",
   "title_sidebar": "Contents",
   "toc_cell": false,
   "toc_position": {},
   "toc_section_display": true,
   "toc_window_display": false
  },
  "varInspector": {
   "cols": {
    "lenName": 16,
    "lenType": 16,
    "lenVar": 40
   },
   "kernels_config": {
    "python": {
     "delete_cmd_postfix": "",
     "delete_cmd_prefix": "del ",
     "library": "var_list.py",
     "varRefreshCmd": "print(var_dic_list())"
    },
    "r": {
     "delete_cmd_postfix": ") ",
     "delete_cmd_prefix": "rm(",
     "library": "var_list.r",
     "varRefreshCmd": "cat(var_dic_list()) "
    }
   },
   "types_to_exclude": [
    "module",
    "function",
    "builtin_function_or_method",
    "instance",
    "_Feature"
   ],
   "window_display": false
  }
 },
 "nbformat": 4,
 "nbformat_minor": 5
}
